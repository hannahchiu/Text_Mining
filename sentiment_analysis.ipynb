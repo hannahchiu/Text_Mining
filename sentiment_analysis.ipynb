{
 "cells": [
  {
   "cell_type": "markdown",
   "metadata": {},
   "source": [
    "# Sentiment Analysis"
   ]
  },
  {
   "cell_type": "markdown",
   "metadata": {},
   "source": [
    "## Load data "
   ]
  },
  {
   "cell_type": "code",
   "execution_count": 2,
   "metadata": {},
   "outputs": [
    {
     "data": {
      "text/html": [
       "<div>\n",
       "<style scoped>\n",
       "    .dataframe tbody tr th:only-of-type {\n",
       "        vertical-align: middle;\n",
       "    }\n",
       "\n",
       "    .dataframe tbody tr th {\n",
       "        vertical-align: top;\n",
       "    }\n",
       "\n",
       "    .dataframe thead th {\n",
       "        text-align: right;\n",
       "    }\n",
       "</style>\n",
       "<table border=\"1\" class=\"dataframe\">\n",
       "  <thead>\n",
       "    <tr style=\"text-align: right;\">\n",
       "      <th></th>\n",
       "      <th>tag</th>\n",
       "      <th>text</th>\n",
       "    </tr>\n",
       "  </thead>\n",
       "  <tbody>\n",
       "    <tr>\n",
       "      <th>0</th>\n",
       "      <td>P</td>\n",
       "      <td>店家很給力，快遞也是相當快，第三次光顧啦</td>\n",
       "    </tr>\n",
       "    <tr>\n",
       "      <th>1</th>\n",
       "      <td>N</td>\n",
       "      <td>這樣的配置用Vista系統還是有點卡。 指紋收集器。 沒送原裝滑鼠還需要自己買，不太好。</td>\n",
       "    </tr>\n",
       "    <tr>\n",
       "      <th>2</th>\n",
       "      <td>P</td>\n",
       "      <td>不錯，在同等檔次酒店中應該是值得推薦的！</td>\n",
       "    </tr>\n",
       "    <tr>\n",
       "      <th>3</th>\n",
       "      <td>N</td>\n",
       "      <td>哎！ 不會是蒙牛乾的吧 嚴懲真凶！</td>\n",
       "    </tr>\n",
       "    <tr>\n",
       "      <th>4</th>\n",
       "      <td>N</td>\n",
       "      <td>空尤其是三立電視臺女主播做的序尤其無趣像是硬湊那麼多字</td>\n",
       "    </tr>\n",
       "  </tbody>\n",
       "</table>\n",
       "</div>"
      ],
      "text/plain": [
       "  tag                                          text\n",
       "0   P                          店家很給力，快遞也是相當快，第三次光顧啦\n",
       "1   N  這樣的配置用Vista系統還是有點卡。 指紋收集器。 沒送原裝滑鼠還需要自己買，不太好。\n",
       "2   P                          不錯，在同等檔次酒店中應該是值得推薦的！\n",
       "3   N                             哎！ 不會是蒙牛乾的吧 嚴懲真凶！\n",
       "4   N                   空尤其是三立電視臺女主播做的序尤其無趣像是硬湊那麼多字"
      ]
     },
     "execution_count": 2,
     "metadata": {},
     "output_type": "execute_result"
    }
   ],
   "source": [
    "import pandas as pd\n",
    "df = pd.read_csv('dataset/sentiment.csv')\n",
    "df.head(5)"
   ]
  },
  {
   "cell_type": "code",
   "execution_count": 3,
   "metadata": {},
   "outputs": [
    {
     "name": "stdout",
     "output_type": "stream",
     "text": [
      "6388\n",
      "N    3347\n",
      "P    3041\n",
      "Name: tag, dtype: int64\n"
     ]
    }
   ],
   "source": [
    "print(len(df))\n",
    "print(df['tag'].value_counts())"
   ]
  },
  {
   "cell_type": "markdown",
   "metadata": {},
   "source": [
    "## Tokenization"
   ]
  },
  {
   "cell_type": "code",
   "execution_count": 4,
   "metadata": {},
   "outputs": [
    {
     "name": "stderr",
     "output_type": "stream",
     "text": [
      "/Users/shihhan/Documents/Text_Mining/venv/lib/python3.6/site-packages/tensorflow/python/framework/dtypes.py:516: FutureWarning: Passing (type, 1) or '1type' as a synonym of type is deprecated; in a future version of numpy, it will be understood as (type, (1,)) / '(1,)type'.\n",
      "  _np_qint8 = np.dtype([(\"qint8\", np.int8, 1)])\n",
      "/Users/shihhan/Documents/Text_Mining/venv/lib/python3.6/site-packages/tensorflow/python/framework/dtypes.py:517: FutureWarning: Passing (type, 1) or '1type' as a synonym of type is deprecated; in a future version of numpy, it will be understood as (type, (1,)) / '(1,)type'.\n",
      "  _np_quint8 = np.dtype([(\"quint8\", np.uint8, 1)])\n",
      "/Users/shihhan/Documents/Text_Mining/venv/lib/python3.6/site-packages/tensorflow/python/framework/dtypes.py:518: FutureWarning: Passing (type, 1) or '1type' as a synonym of type is deprecated; in a future version of numpy, it will be understood as (type, (1,)) / '(1,)type'.\n",
      "  _np_qint16 = np.dtype([(\"qint16\", np.int16, 1)])\n",
      "/Users/shihhan/Documents/Text_Mining/venv/lib/python3.6/site-packages/tensorflow/python/framework/dtypes.py:519: FutureWarning: Passing (type, 1) or '1type' as a synonym of type is deprecated; in a future version of numpy, it will be understood as (type, (1,)) / '(1,)type'.\n",
      "  _np_quint16 = np.dtype([(\"quint16\", np.uint16, 1)])\n",
      "/Users/shihhan/Documents/Text_Mining/venv/lib/python3.6/site-packages/tensorflow/python/framework/dtypes.py:520: FutureWarning: Passing (type, 1) or '1type' as a synonym of type is deprecated; in a future version of numpy, it will be understood as (type, (1,)) / '(1,)type'.\n",
      "  _np_qint32 = np.dtype([(\"qint32\", np.int32, 1)])\n",
      "/Users/shihhan/Documents/Text_Mining/venv/lib/python3.6/site-packages/tensorflow/python/framework/dtypes.py:525: FutureWarning: Passing (type, 1) or '1type' as a synonym of type is deprecated; in a future version of numpy, it will be understood as (type, (1,)) / '(1,)type'.\n",
      "  np_resource = np.dtype([(\"resource\", np.ubyte, 1)])\n",
      "/Users/shihhan/Documents/Text_Mining/venv/lib/python3.6/site-packages/tensorboard/compat/tensorflow_stub/dtypes.py:541: FutureWarning: Passing (type, 1) or '1type' as a synonym of type is deprecated; in a future version of numpy, it will be understood as (type, (1,)) / '(1,)type'.\n",
      "  _np_qint8 = np.dtype([(\"qint8\", np.int8, 1)])\n",
      "/Users/shihhan/Documents/Text_Mining/venv/lib/python3.6/site-packages/tensorboard/compat/tensorflow_stub/dtypes.py:542: FutureWarning: Passing (type, 1) or '1type' as a synonym of type is deprecated; in a future version of numpy, it will be understood as (type, (1,)) / '(1,)type'.\n",
      "  _np_quint8 = np.dtype([(\"quint8\", np.uint8, 1)])\n",
      "/Users/shihhan/Documents/Text_Mining/venv/lib/python3.6/site-packages/tensorboard/compat/tensorflow_stub/dtypes.py:543: FutureWarning: Passing (type, 1) or '1type' as a synonym of type is deprecated; in a future version of numpy, it will be understood as (type, (1,)) / '(1,)type'.\n",
      "  _np_qint16 = np.dtype([(\"qint16\", np.int16, 1)])\n",
      "/Users/shihhan/Documents/Text_Mining/venv/lib/python3.6/site-packages/tensorboard/compat/tensorflow_stub/dtypes.py:544: FutureWarning: Passing (type, 1) or '1type' as a synonym of type is deprecated; in a future version of numpy, it will be understood as (type, (1,)) / '(1,)type'.\n",
      "  _np_quint16 = np.dtype([(\"quint16\", np.uint16, 1)])\n",
      "/Users/shihhan/Documents/Text_Mining/venv/lib/python3.6/site-packages/tensorboard/compat/tensorflow_stub/dtypes.py:545: FutureWarning: Passing (type, 1) or '1type' as a synonym of type is deprecated; in a future version of numpy, it will be understood as (type, (1,)) / '(1,)type'.\n",
      "  _np_qint32 = np.dtype([(\"qint32\", np.int32, 1)])\n",
      "/Users/shihhan/Documents/Text_Mining/venv/lib/python3.6/site-packages/tensorboard/compat/tensorflow_stub/dtypes.py:550: FutureWarning: Passing (type, 1) or '1type' as a synonym of type is deprecated; in a future version of numpy, it will be understood as (type, (1,)) / '(1,)type'.\n",
      "  np_resource = np.dtype([(\"resource\", np.ubyte, 1)])\n"
     ]
    },
    {
     "name": "stdout",
     "output_type": "stream",
     "text": [
      "WARNING: Entity <bound method LSTMCell.call of <tensorflow.python.ops.rnn_cell_impl.LSTMCell object at 0x130e4de10>> could not be transformed and will be executed as-is. Please report this to the AutgoGraph team. When filing the bug, set the verbosity to 10 (on Linux, `export AUTOGRAPH_VERBOSITY=10`) and attach the full output. Cause: converting <bound method LSTMCell.call of <tensorflow.python.ops.rnn_cell_impl.LSTMCell object at 0x130e4de10>>: AttributeError: module 'gast' has no attribute 'Num'\n",
      "WARNING: Entity <bound method LSTMCell.call of <tensorflow.python.ops.rnn_cell_impl.LSTMCell object at 0x10b0572b0>> could not be transformed and will be executed as-is. Please report this to the AutgoGraph team. When filing the bug, set the verbosity to 10 (on Linux, `export AUTOGRAPH_VERBOSITY=10`) and attach the full output. Cause: converting <bound method LSTMCell.call of <tensorflow.python.ops.rnn_cell_impl.LSTMCell object at 0x10b0572b0>>: AttributeError: module 'gast' has no attribute 'Num'\n",
      "WARNING: Entity <bound method LSTMCell.call of <tensorflow.python.ops.rnn_cell_impl.LSTMCell object at 0x131feeb38>> could not be transformed and will be executed as-is. Please report this to the AutgoGraph team. When filing the bug, set the verbosity to 10 (on Linux, `export AUTOGRAPH_VERBOSITY=10`) and attach the full output. Cause: converting <bound method LSTMCell.call of <tensorflow.python.ops.rnn_cell_impl.LSTMCell object at 0x131feeb38>>: AttributeError: module 'gast' has no attribute 'Num'\n",
      "WARNING: Entity <bound method LSTMCell.call of <tensorflow.python.ops.rnn_cell_impl.LSTMCell object at 0x13200ea90>> could not be transformed and will be executed as-is. Please report this to the AutgoGraph team. When filing the bug, set the verbosity to 10 (on Linux, `export AUTOGRAPH_VERBOSITY=10`) and attach the full output. Cause: converting <bound method LSTMCell.call of <tensorflow.python.ops.rnn_cell_impl.LSTMCell object at 0x13200ea90>>: AttributeError: module 'gast' has no attribute 'Num'\n",
      "WARNING: Entity <bound method Dense.call of <tensorflow.python.layers.core.Dense object at 0x130e4dd30>> could not be transformed and will be executed as-is. Please report this to the AutgoGraph team. When filing the bug, set the verbosity to 10 (on Linux, `export AUTOGRAPH_VERBOSITY=10`) and attach the full output. Cause: converting <bound method Dense.call of <tensorflow.python.layers.core.Dense object at 0x130e4dd30>>: AssertionError: Bad argument number for Name: 3, expecting 4\n"
     ]
    },
    {
     "data": {
      "text/html": [
       "<div>\n",
       "<style scoped>\n",
       "    .dataframe tbody tr th:only-of-type {\n",
       "        vertical-align: middle;\n",
       "    }\n",
       "\n",
       "    .dataframe tbody tr th {\n",
       "        vertical-align: top;\n",
       "    }\n",
       "\n",
       "    .dataframe thead th {\n",
       "        text-align: right;\n",
       "    }\n",
       "</style>\n",
       "<table border=\"1\" class=\"dataframe\">\n",
       "  <thead>\n",
       "    <tr style=\"text-align: right;\">\n",
       "      <th></th>\n",
       "      <th>tag</th>\n",
       "      <th>text</th>\n",
       "      <th>token_text</th>\n",
       "    </tr>\n",
       "  </thead>\n",
       "  <tbody>\n",
       "    <tr>\n",
       "      <th>0</th>\n",
       "      <td>P</td>\n",
       "      <td>店家很給力，快遞也是相當快，第三次光顧啦</td>\n",
       "      <td>[店家, 很, 給力, ，, 快遞, 也, 是, 相當, 快, ，, 第三, 次, 光顧, 啦]</td>\n",
       "    </tr>\n",
       "    <tr>\n",
       "      <th>1</th>\n",
       "      <td>N</td>\n",
       "      <td>這樣的配置用Vista系統還是有點卡。 指紋收集器。 沒送原裝滑鼠還需要自己買，不太好。</td>\n",
       "      <td>[這樣, 的, 配置, 用, Vista, 系統, 還是, 有點, 卡, 。,  , 指紋,...</td>\n",
       "    </tr>\n",
       "    <tr>\n",
       "      <th>2</th>\n",
       "      <td>P</td>\n",
       "      <td>不錯，在同等檔次酒店中應該是值得推薦的！</td>\n",
       "      <td>[不錯, ，, 在, 同等, 檔次, 酒店, 中, 應該, 是, 值得, 推薦, 的, ！]</td>\n",
       "    </tr>\n",
       "    <tr>\n",
       "      <th>3</th>\n",
       "      <td>N</td>\n",
       "      <td>哎！ 不會是蒙牛乾的吧 嚴懲真凶！</td>\n",
       "      <td>[哎, ！ , 不會, 是, 蒙, 牛乾, 的, 吧,  , 嚴懲, 真, 凶, ！]</td>\n",
       "    </tr>\n",
       "    <tr>\n",
       "      <th>4</th>\n",
       "      <td>N</td>\n",
       "      <td>空尤其是三立電視臺女主播做的序尤其無趣像是硬湊那麼多字</td>\n",
       "      <td>[空, 尤其, 是, 三立, 電視臺, 女, 主播, 做, 的, 序, 尤其, 無趣, 像是...</td>\n",
       "    </tr>\n",
       "  </tbody>\n",
       "</table>\n",
       "</div>"
      ],
      "text/plain": [
       "  tag                                          text  \\\n",
       "0   P                          店家很給力，快遞也是相當快，第三次光顧啦   \n",
       "1   N  這樣的配置用Vista系統還是有點卡。 指紋收集器。 沒送原裝滑鼠還需要自己買，不太好。   \n",
       "2   P                          不錯，在同等檔次酒店中應該是值得推薦的！   \n",
       "3   N                             哎！ 不會是蒙牛乾的吧 嚴懲真凶！   \n",
       "4   N                   空尤其是三立電視臺女主播做的序尤其無趣像是硬湊那麼多字   \n",
       "\n",
       "                                          token_text  \n",
       "0   [店家, 很, 給力, ，, 快遞, 也, 是, 相當, 快, ，, 第三, 次, 光顧, 啦]  \n",
       "1  [這樣, 的, 配置, 用, Vista, 系統, 還是, 有點, 卡, 。,  , 指紋,...  \n",
       "2     [不錯, ，, 在, 同等, 檔次, 酒店, 中, 應該, 是, 值得, 推薦, 的, ！]  \n",
       "3        [哎, ！ , 不會, 是, 蒙, 牛乾, 的, 吧,  , 嚴懲, 真, 凶, ！]  \n",
       "4  [空, 尤其, 是, 三立, 電視臺, 女, 主播, 做, 的, 序, 尤其, 無趣, 像是...  "
      ]
     },
     "execution_count": 4,
     "metadata": {},
     "output_type": "execute_result"
    }
   ],
   "source": [
    "from ckiptagger import data_utils, WS\n",
    "# data_utils.download_data_gdown(\"./\")  # 執行一次就好\n",
    "ws = WS(\"./data\")\n",
    "df['token_text'] = ws(df[\"text\"])\n",
    "df.head(5)"
   ]
  },
  {
   "cell_type": "markdown",
   "metadata": {},
   "source": [
    "## Word2Vec "
   ]
  },
  {
   "cell_type": "markdown",
   "metadata": {},
   "source": [
    "<b>sg=1:skip-gram, sg=0:cbow</b>"
   ]
  },
  {
   "cell_type": "code",
   "execution_count": 5,
   "metadata": {},
   "outputs": [],
   "source": [
    "from gensim.models import Word2Vec\n",
    "model = Word2Vec(df['token_text'], min_count=1, size=300, window=5, sg=1, workers=2)"
   ]
  },
  {
   "cell_type": "code",
   "execution_count": 6,
   "metadata": {},
   "outputs": [
    {
     "name": "stdout",
     "output_type": "stream",
     "text": [
      "300\n",
      "[('好喝', 0.9902586340904236), ('果粒', 0.9879468679428101), ('香蕉', 0.9839949607849121), ('感謝', 0.9838501811027527), ('光明', 0.9837287068367004), ('最愛', 0.982850193977356), ('坑爹', 0.9802760481834412), ('垃圾', 0.9779587984085083), ('無恥', 0.9758105278015137), ('逼', 0.9734625816345215)]\n"
     ]
    },
    {
     "name": "stderr",
     "output_type": "stream",
     "text": [
      "/Users/shihhan/Documents/Text_Mining/venv/lib/python3.6/site-packages/ipykernel_launcher.py:1: DeprecationWarning: Call to deprecated `__getitem__` (Method will be removed in 4.0.0, use self.wv.__getitem__() instead).\n",
      "  \"\"\"Entry point for launching an IPython kernel.\n",
      "/Users/shihhan/Documents/Text_Mining/venv/lib/python3.6/site-packages/ipykernel_launcher.py:2: DeprecationWarning: Call to deprecated `most_similar` (Method will be removed in 4.0.0, use self.wv.most_similar() instead).\n",
      "  \n"
     ]
    }
   ],
   "source": [
    "print(len(model['好吃']))\n",
    "print(model.most_similar('好吃'))"
   ]
  },
  {
   "cell_type": "markdown",
   "metadata": {},
   "source": [
    "### Load pre-trained embedding model"
   ]
  },
  {
   "cell_type": "code",
   "execution_count": 7,
   "metadata": {},
   "outputs": [
    {
     "name": "stdout",
     "output_type": "stream",
     "text": [
      "300\n"
     ]
    }
   ],
   "source": [
    "import numpy as np\n",
    "token_list = np.load(\"./data/embedding_word/token_list.npy\")\n",
    "vector_list = np.load(\"./data/embedding_word/vector_list.npy\")\n",
    "model = dict(zip(token_list, vector_list))\n",
    "print(len(model['好吃']))"
   ]
  },
  {
   "cell_type": "markdown",
   "metadata": {},
   "source": [
    "### Visualize "
   ]
  },
  {
   "cell_type": "markdown",
   "metadata": {},
   "source": [
    "[Matplotlib中文顯示問題](https://medium.com/marketingdatascience/%E8%A7%A3%E6%B1%BApython-3-matplotlib%E8%88%87seaborn%E8%A6%96%E8%A6%BA%E5%8C%96%E5%A5%97%E4%BB%B6%E4%B8%AD%E6%96%87%E9%A1%AF%E7%A4%BA%E5%95%8F%E9%A1%8C-f7b3773a889b)"
   ]
  },
  {
   "cell_type": "code",
   "execution_count": 8,
   "metadata": {},
   "outputs": [
    {
     "name": "stdout",
     "output_type": "stream",
     "text": [
      "[-0.16441096  0.09806027]\n"
     ]
    }
   ],
   "source": [
    "from sklearn.decomposition import PCA\n",
    "\n",
    "labels = []\n",
    "tokens = []\n",
    "\n",
    "for word in list(model.keys()):\n",
    "    tokens.append(model[word])\n",
    "    labels.append(word)\n",
    "\n",
    "X_reduced = PCA(n_components=2).fit_transform(tokens)\n",
    "print(X_reduced[0])"
   ]
  },
  {
   "cell_type": "code",
   "execution_count": 17,
   "metadata": {},
   "outputs": [
    {
     "data": {
      "image/png": "[encoded data removed]",
      "text/plain": [
       "<Figure size 432x288 with 1 Axes>"
      ]
     },
     "metadata": {
      "needs_background": "light"
     },
     "output_type": "display_data"
    }
   ],
   "source": [
    "import matplotlib.pyplot as plt\n",
    "plt.rcParams['font.sans-serif'] = ['Microsoft JhengHei']\n",
    "\n",
    "pca_output = []\n",
    "words = ['國王', '皇后', '男人', '女人']\n",
    "\n",
    "for w in words:\n",
    "    index = labels.index(w)\n",
    "    pca_output.append(X_reduced[index])\n",
    "\n",
    "x = []\n",
    "y = []\n",
    "for value in pca_output:\n",
    "    x.append(value[0])\n",
    "    y.append(value[1])\n",
    "\n",
    "for i in range(0, len(x), 2):\n",
    "    plt.plot(x[i:i+2], y[i:i+2], 'r--',color = \"grey\")\n",
    "\n",
    "for i in range(len(x)):\n",
    "    plt.annotate(words[i],xy=(x[i], y[i]))\n",
    "\n",
    "plt.ylim(0, 1.2)\n",
    "plt.xlim(-1, -0.2)\n",
    "plt.show()"
   ]
  },
  {
   "cell_type": "code",
   "execution_count": 10,
   "metadata": {},
   "outputs": [
    {
     "data": {
      "text/html": [
       "<div>\n",
       "<style scoped>\n",
       "    .dataframe tbody tr th:only-of-type {\n",
       "        vertical-align: middle;\n",
       "    }\n",
       "\n",
       "    .dataframe tbody tr th {\n",
       "        vertical-align: top;\n",
       "    }\n",
       "\n",
       "    .dataframe thead th {\n",
       "        text-align: right;\n",
       "    }\n",
       "</style>\n",
       "<table border=\"1\" class=\"dataframe\">\n",
       "  <thead>\n",
       "    <tr style=\"text-align: right;\">\n",
       "      <th></th>\n",
       "      <th>tag</th>\n",
       "      <th>text</th>\n",
       "      <th>token_text</th>\n",
       "      <th>doc_vec</th>\n",
       "    </tr>\n",
       "  </thead>\n",
       "  <tbody>\n",
       "    <tr>\n",
       "      <th>0</th>\n",
       "      <td>P</td>\n",
       "      <td>店家很給力，快遞也是相當快，第三次光顧啦</td>\n",
       "      <td>[店家, 很, 給力, ，, 快遞, 也, 是, 相當, 快, ，, 第三, 次, 光顧, 啦]</td>\n",
       "      <td>[-0.03402686771005392, 0.06184592949492591, -0...</td>\n",
       "    </tr>\n",
       "    <tr>\n",
       "      <th>1</th>\n",
       "      <td>N</td>\n",
       "      <td>這樣的配置用Vista系統還是有點卡。 指紋收集器。 沒送原裝滑鼠還需要自己買，不太好。</td>\n",
       "      <td>[這樣, 的, 配置, 用, Vista, 系統, 還是, 有點, 卡, 。,  , 指紋,...</td>\n",
       "      <td>[-0.007446914512131896, -0.0062939717110046855...</td>\n",
       "    </tr>\n",
       "    <tr>\n",
       "      <th>2</th>\n",
       "      <td>P</td>\n",
       "      <td>不錯，在同等檔次酒店中應該是值得推薦的！</td>\n",
       "      <td>[不錯, ，, 在, 同等, 檔次, 酒店, 中, 應該, 是, 值得, 推薦, 的, ！]</td>\n",
       "      <td>[-0.10691024477665241, -0.03989670884150725, -...</td>\n",
       "    </tr>\n",
       "    <tr>\n",
       "      <th>3</th>\n",
       "      <td>N</td>\n",
       "      <td>哎！ 不會是蒙牛乾的吧 嚴懲真凶！</td>\n",
       "      <td>[哎, ！ , 不會, 是, 蒙, 牛乾, 的, 吧,  , 嚴懲, 真, 凶, ！]</td>\n",
       "      <td>[0.01443662358304629, -0.04190618630785208, 0....</td>\n",
       "    </tr>\n",
       "    <tr>\n",
       "      <th>4</th>\n",
       "      <td>N</td>\n",
       "      <td>空尤其是三立電視臺女主播做的序尤其無趣像是硬湊那麼多字</td>\n",
       "      <td>[空, 尤其, 是, 三立, 電視臺, 女, 主播, 做, 的, 序, 尤其, 無趣, 像是...</td>\n",
       "      <td>[-0.11447197, -0.0063643046, 0.1537531, 0.1133...</td>\n",
       "    </tr>\n",
       "  </tbody>\n",
       "</table>\n",
       "</div>"
      ],
      "text/plain": [
       "  tag                                          text  \\\n",
       "0   P                          店家很給力，快遞也是相當快，第三次光顧啦   \n",
       "1   N  這樣的配置用Vista系統還是有點卡。 指紋收集器。 沒送原裝滑鼠還需要自己買，不太好。   \n",
       "2   P                          不錯，在同等檔次酒店中應該是值得推薦的！   \n",
       "3   N                             哎！ 不會是蒙牛乾的吧 嚴懲真凶！   \n",
       "4   N                   空尤其是三立電視臺女主播做的序尤其無趣像是硬湊那麼多字   \n",
       "\n",
       "                                          token_text  \\\n",
       "0   [店家, 很, 給力, ，, 快遞, 也, 是, 相當, 快, ，, 第三, 次, 光顧, 啦]   \n",
       "1  [這樣, 的, 配置, 用, Vista, 系統, 還是, 有點, 卡, 。,  , 指紋,...   \n",
       "2     [不錯, ，, 在, 同等, 檔次, 酒店, 中, 應該, 是, 值得, 推薦, 的, ！]   \n",
       "3        [哎, ！ , 不會, 是, 蒙, 牛乾, 的, 吧,  , 嚴懲, 真, 凶, ！]   \n",
       "4  [空, 尤其, 是, 三立, 電視臺, 女, 主播, 做, 的, 序, 尤其, 無趣, 像是...   \n",
       "\n",
       "                                             doc_vec  \n",
       "0  [-0.03402686771005392, 0.06184592949492591, -0...  \n",
       "1  [-0.007446914512131896, -0.0062939717110046855...  \n",
       "2  [-0.10691024477665241, -0.03989670884150725, -...  \n",
       "3  [0.01443662358304629, -0.04190618630785208, 0....  \n",
       "4  [-0.11447197, -0.0063643046, 0.1537531, 0.1133...  "
      ]
     },
     "execution_count": 10,
     "metadata": {},
     "output_type": "execute_result"
    }
   ],
   "source": [
    "def avg_w2v_vector(text_list):\n",
    "    sum_vec = sum([model[word] if word in model else np.zeros(300) for word in text_list])\n",
    "    result = sum_vec/len(text_list)  \n",
    "    return result\n",
    "\n",
    "df['doc_vec'] = df['token_text'].apply(lambda x: avg_w2v_vector(x))\n",
    "df.head(5)"
   ]
  },
  {
   "cell_type": "markdown",
   "metadata": {},
   "source": [
    "## Model"
   ]
  },
  {
   "cell_type": "markdown",
   "metadata": {},
   "source": [
    "### train/test split "
   ]
  },
  {
   "cell_type": "code",
   "execution_count": 38,
   "metadata": {},
   "outputs": [
    {
     "name": "stdout",
     "output_type": "stream",
     "text": [
      "5110\n",
      "1278\n"
     ]
    }
   ],
   "source": [
    "from sklearn.model_selection import train_test_split\n",
    "train, test = train_test_split(df, test_size = 0.2, random_state = 123)\n",
    "print(len(train))\n",
    "print(len(test))"
   ]
  },
  {
   "cell_type": "markdown",
   "metadata": {},
   "source": [
    "### train "
   ]
  },
  {
   "cell_type": "code",
   "execution_count": 39,
   "metadata": {},
   "outputs": [
    {
     "data": {
      "text/plain": [
       "SVC(C=1.0, break_ties=False, cache_size=200, class_weight=None, coef0=0.0,\n",
       "    decision_function_shape='ovr', degree=3, gamma='scale', kernel='rbf',\n",
       "    max_iter=-1, probability=False, random_state=None, shrinking=True,\n",
       "    tol=0.001, verbose=False)"
      ]
     },
     "execution_count": 39,
     "metadata": {},
     "output_type": "execute_result"
    }
   ],
   "source": [
    "from sklearn.svm import SVC\n",
    "svm_model = SVC()\n",
    "svm_model.fit(list(train['doc_vec']), train['tag'])"
   ]
  },
  {
   "cell_type": "markdown",
   "metadata": {},
   "source": [
    "### test "
   ]
  },
  {
   "cell_type": "code",
   "execution_count": 41,
   "metadata": {},
   "outputs": [
    {
     "name": "stdout",
     "output_type": "stream",
     "text": [
      "['P' 'P' 'P' ... 'P' 'P' 'P']\n"
     ]
    }
   ],
   "source": [
    "result = svm_model.predict(list(test['doc_vec']))\n",
    "print(result)"
   ]
  },
  {
   "cell_type": "code",
   "execution_count": 44,
   "metadata": {},
   "outputs": [
    {
     "name": "stderr",
     "output_type": "stream",
     "text": [
      "/Users/shihhan/Documents/Text_Mining/venv/lib/python3.6/site-packages/ipykernel_launcher.py:1: SettingWithCopyWarning: \n",
      "A value is trying to be set on a copy of a slice from a DataFrame.\n",
      "Try using .loc[row_indexer,col_indexer] = value instead\n",
      "\n",
      "See the caveats in the documentation: https://pandas.pydata.org/pandas-docs/stable/user_guide/indexing.html#returning-a-view-versus-a-copy\n",
      "  \"\"\"Entry point for launching an IPython kernel.\n"
     ]
    },
    {
     "data": {
      "text/html": [
       "<div>\n",
       "<style scoped>\n",
       "    .dataframe tbody tr th:only-of-type {\n",
       "        vertical-align: middle;\n",
       "    }\n",
       "\n",
       "    .dataframe tbody tr th {\n",
       "        vertical-align: top;\n",
       "    }\n",
       "\n",
       "    .dataframe thead th {\n",
       "        text-align: right;\n",
       "    }\n",
       "</style>\n",
       "<table border=\"1\" class=\"dataframe\">\n",
       "  <thead>\n",
       "    <tr style=\"text-align: right;\">\n",
       "      <th></th>\n",
       "      <th>tag</th>\n",
       "      <th>text</th>\n",
       "      <th>token_text</th>\n",
       "      <th>doc_vec</th>\n",
       "      <th>predict_svm</th>\n",
       "    </tr>\n",
       "  </thead>\n",
       "  <tbody>\n",
       "    <tr>\n",
       "      <th>2019</th>\n",
       "      <td>N</td>\n",
       "      <td>好，物流也快，就是安裝費花了200，有點貴。</td>\n",
       "      <td>[好, ，, 物流, 也, 快, ，, 就, 是, 安裝費, 花, 了, 200, ，, 有...</td>\n",
       "      <td>[-0.08342421057750471, -0.014780480531044304, ...</td>\n",
       "      <td>P</td>\n",
       "    </tr>\n",
       "    <tr>\n",
       "      <th>2881</th>\n",
       "      <td>P</td>\n",
       "      <td>質感，輕巧。外觀時尚，價格合理</td>\n",
       "      <td>[質感, ，, 輕巧, 。, 外觀, 時尚, ，, 價格, 合理]</td>\n",
       "      <td>[-0.08880039946072632, -0.09217396958006753, 0...</td>\n",
       "      <td>P</td>\n",
       "    </tr>\n",
       "    <tr>\n",
       "      <th>4037</th>\n",
       "      <td>P</td>\n",
       "      <td>很滿意，全5分</td>\n",
       "      <td>[很, 滿意, ，, 全, 5, 分]</td>\n",
       "      <td>[-0.08709055682023366, -0.10826296731829643, 0...</td>\n",
       "      <td>P</td>\n",
       "    </tr>\n",
       "    <tr>\n",
       "      <th>222</th>\n",
       "      <td>P</td>\n",
       "      <td>金屬外殼，看起比較上檔次。攜帶方便，大一點的包都裝的下。還有正版系統盤，馬上感到放心多了。</td>\n",
       "      <td>[金屬, 外殼, ，, 看起, 比較, 上, 檔次, 。, 攜帶, 方便, ，, 大, 一點...</td>\n",
       "      <td>[-0.08604101920179252, -0.038842485093607985, ...</td>\n",
       "      <td>P</td>\n",
       "    </tr>\n",
       "    <tr>\n",
       "      <th>1479</th>\n",
       "      <td>P</td>\n",
       "      <td>優點大家說得都差不多了.對於支援國產品牌來說,聯想真的是個不錯的選擇.</td>\n",
       "      <td>[優點, 大家, 說, 得, 都, 差不多, 了, ., 對於, 支援, 國產, 品牌, 來...</td>\n",
       "      <td>[-0.052145246, 0.027451375, -0.04499321, 0.092...</td>\n",
       "      <td>P</td>\n",
       "    </tr>\n",
       "  </tbody>\n",
       "</table>\n",
       "</div>"
      ],
      "text/plain": [
       "     tag                                           text  \\\n",
       "2019   N                         好，物流也快，就是安裝費花了200，有點貴。   \n",
       "2881   P                                質感，輕巧。外觀時尚，價格合理   \n",
       "4037   P                                        很滿意，全5分   \n",
       "222    P  金屬外殼，看起比較上檔次。攜帶方便，大一點的包都裝的下。還有正版系統盤，馬上感到放心多了。   \n",
       "1479   P            優點大家說得都差不多了.對於支援國產品牌來說,聯想真的是個不錯的選擇.   \n",
       "\n",
       "                                             token_text  \\\n",
       "2019  [好, ，, 物流, 也, 快, ，, 就, 是, 安裝費, 花, 了, 200, ，, 有...   \n",
       "2881                  [質感, ，, 輕巧, 。, 外觀, 時尚, ，, 價格, 合理]   \n",
       "4037                                [很, 滿意, ，, 全, 5, 分]   \n",
       "222   [金屬, 外殼, ，, 看起, 比較, 上, 檔次, 。, 攜帶, 方便, ，, 大, 一點...   \n",
       "1479  [優點, 大家, 說, 得, 都, 差不多, 了, ., 對於, 支援, 國產, 品牌, 來...   \n",
       "\n",
       "                                                doc_vec predict_svm  \n",
       "2019  [-0.08342421057750471, -0.014780480531044304, ...           P  \n",
       "2881  [-0.08880039946072632, -0.09217396958006753, 0...           P  \n",
       "4037  [-0.08709055682023366, -0.10826296731829643, 0...           P  \n",
       "222   [-0.08604101920179252, -0.038842485093607985, ...           P  \n",
       "1479  [-0.052145246, 0.027451375, -0.04499321, 0.092...           P  "
      ]
     },
     "execution_count": 44,
     "metadata": {},
     "output_type": "execute_result"
    }
   ],
   "source": [
    "test['predict_svm'] = result\n",
    "test.head(5)"
   ]
  },
  {
   "cell_type": "markdown",
   "metadata": {},
   "source": [
    "### accuracy "
   ]
  },
  {
   "cell_type": "code",
   "execution_count": 45,
   "metadata": {
    "scrolled": true
   },
   "outputs": [
    {
     "name": "stdout",
     "output_type": "stream",
     "text": [
      "0.8849765258215962\n"
     ]
    }
   ],
   "source": [
    "print(sum(test['tag']==test['predict_svm'])/len(test))"
   ]
  },
  {
   "cell_type": "markdown",
   "metadata": {},
   "source": [
    "### confusion matrix "
   ]
  },
  {
   "cell_type": "code",
   "execution_count": 46,
   "metadata": {},
   "outputs": [
    {
     "name": "stdout",
     "output_type": "stream",
     "text": [
      "[[525  97]\n",
      " [ 50 606]]\n"
     ]
    },
    {
     "data": {
      "text/html": [
       "<div>\n",
       "<style scoped>\n",
       "    .dataframe tbody tr th:only-of-type {\n",
       "        vertical-align: middle;\n",
       "    }\n",
       "\n",
       "    .dataframe tbody tr th {\n",
       "        vertical-align: top;\n",
       "    }\n",
       "\n",
       "    .dataframe thead th {\n",
       "        text-align: right;\n",
       "    }\n",
       "</style>\n",
       "<table border=\"1\" class=\"dataframe\">\n",
       "  <thead>\n",
       "    <tr style=\"text-align: right;\">\n",
       "      <th></th>\n",
       "      <th>pred(P)</th>\n",
       "      <th>pred(N)</th>\n",
       "    </tr>\n",
       "  </thead>\n",
       "  <tbody>\n",
       "    <tr>\n",
       "      <th>true(P)</th>\n",
       "      <td>525</td>\n",
       "      <td>97</td>\n",
       "    </tr>\n",
       "    <tr>\n",
       "      <th>true(N)</th>\n",
       "      <td>50</td>\n",
       "      <td>606</td>\n",
       "    </tr>\n",
       "  </tbody>\n",
       "</table>\n",
       "</div>"
      ],
      "text/plain": [
       "         pred(P)  pred(N)\n",
       "true(P)      525       97\n",
       "true(N)       50      606"
      ]
     },
     "execution_count": 46,
     "metadata": {},
     "output_type": "execute_result"
    }
   ],
   "source": [
    "from sklearn.metrics import confusion_matrix\n",
    "conf = confusion_matrix(test['tag'],test['predict_svm'],labels=['P', 'N'])\n",
    "print(conf)\n",
    "pd.DataFrame(conf, index=['true(P)', 'true(N)'], columns=['pred(P)', 'pred(N)'])"
   ]
  },
  {
   "cell_type": "code",
   "execution_count": 47,
   "metadata": {},
   "outputs": [
    {
     "data": {
      "text/plain": [
       "LogisticRegression(C=1.0, class_weight=None, dual=False, fit_intercept=True,\n",
       "                   intercept_scaling=1, l1_ratio=None, max_iter=100,\n",
       "                   multi_class='auto', n_jobs=None, penalty='l2',\n",
       "                   random_state=None, solver='lbfgs', tol=0.0001, verbose=0,\n",
       "                   warm_start=False)"
      ]
     },
     "execution_count": 47,
     "metadata": {},
     "output_type": "execute_result"
    }
   ],
   "source": [
    "from sklearn.linear_model import LogisticRegression\n",
    "logreg = LogisticRegression()\n",
    "logreg.fit(list(train['doc_vec']), train['tag'])"
   ]
  },
  {
   "cell_type": "code",
   "execution_count": 48,
   "metadata": {},
   "outputs": [
    {
     "name": "stderr",
     "output_type": "stream",
     "text": [
      "/Users/shihhan/Documents/Text_Mining/venv/lib/python3.6/site-packages/ipykernel_launcher.py:2: SettingWithCopyWarning: \n",
      "A value is trying to be set on a copy of a slice from a DataFrame.\n",
      "Try using .loc[row_indexer,col_indexer] = value instead\n",
      "\n",
      "See the caveats in the documentation: https://pandas.pydata.org/pandas-docs/stable/user_guide/indexing.html#returning-a-view-versus-a-copy\n",
      "  \n"
     ]
    },
    {
     "data": {
      "text/html": [
       "<div>\n",
       "<style scoped>\n",
       "    .dataframe tbody tr th:only-of-type {\n",
       "        vertical-align: middle;\n",
       "    }\n",
       "\n",
       "    .dataframe tbody tr th {\n",
       "        vertical-align: top;\n",
       "    }\n",
       "\n",
       "    .dataframe thead th {\n",
       "        text-align: right;\n",
       "    }\n",
       "</style>\n",
       "<table border=\"1\" class=\"dataframe\">\n",
       "  <thead>\n",
       "    <tr style=\"text-align: right;\">\n",
       "      <th></th>\n",
       "      <th>tag</th>\n",
       "      <th>text</th>\n",
       "      <th>token_text</th>\n",
       "      <th>doc_vec</th>\n",
       "      <th>predict_svm</th>\n",
       "      <th>predict_log</th>\n",
       "    </tr>\n",
       "  </thead>\n",
       "  <tbody>\n",
       "    <tr>\n",
       "      <th>2019</th>\n",
       "      <td>N</td>\n",
       "      <td>好，物流也快，就是安裝費花了200，有點貴。</td>\n",
       "      <td>[好, ，, 物流, 也, 快, ，, 就, 是, 安裝費, 花, 了, 200, ，, 有...</td>\n",
       "      <td>[-0.08342421057750471, -0.014780480531044304, ...</td>\n",
       "      <td>P</td>\n",
       "      <td>P</td>\n",
       "    </tr>\n",
       "    <tr>\n",
       "      <th>2881</th>\n",
       "      <td>P</td>\n",
       "      <td>質感，輕巧。外觀時尚，價格合理</td>\n",
       "      <td>[質感, ，, 輕巧, 。, 外觀, 時尚, ，, 價格, 合理]</td>\n",
       "      <td>[-0.08880039946072632, -0.09217396958006753, 0...</td>\n",
       "      <td>P</td>\n",
       "      <td>P</td>\n",
       "    </tr>\n",
       "    <tr>\n",
       "      <th>4037</th>\n",
       "      <td>P</td>\n",
       "      <td>很滿意，全5分</td>\n",
       "      <td>[很, 滿意, ，, 全, 5, 分]</td>\n",
       "      <td>[-0.08709055682023366, -0.10826296731829643, 0...</td>\n",
       "      <td>P</td>\n",
       "      <td>P</td>\n",
       "    </tr>\n",
       "    <tr>\n",
       "      <th>222</th>\n",
       "      <td>P</td>\n",
       "      <td>金屬外殼，看起比較上檔次。攜帶方便，大一點的包都裝的下。還有正版系統盤，馬上感到放心多了。</td>\n",
       "      <td>[金屬, 外殼, ，, 看起, 比較, 上, 檔次, 。, 攜帶, 方便, ，, 大, 一點...</td>\n",
       "      <td>[-0.08604101920179252, -0.038842485093607985, ...</td>\n",
       "      <td>P</td>\n",
       "      <td>P</td>\n",
       "    </tr>\n",
       "    <tr>\n",
       "      <th>1479</th>\n",
       "      <td>P</td>\n",
       "      <td>優點大家說得都差不多了.對於支援國產品牌來說,聯想真的是個不錯的選擇.</td>\n",
       "      <td>[優點, 大家, 說, 得, 都, 差不多, 了, ., 對於, 支援, 國產, 品牌, 來...</td>\n",
       "      <td>[-0.052145246, 0.027451375, -0.04499321, 0.092...</td>\n",
       "      <td>P</td>\n",
       "      <td>P</td>\n",
       "    </tr>\n",
       "  </tbody>\n",
       "</table>\n",
       "</div>"
      ],
      "text/plain": [
       "     tag                                           text  \\\n",
       "2019   N                         好，物流也快，就是安裝費花了200，有點貴。   \n",
       "2881   P                                質感，輕巧。外觀時尚，價格合理   \n",
       "4037   P                                        很滿意，全5分   \n",
       "222    P  金屬外殼，看起比較上檔次。攜帶方便，大一點的包都裝的下。還有正版系統盤，馬上感到放心多了。   \n",
       "1479   P            優點大家說得都差不多了.對於支援國產品牌來說,聯想真的是個不錯的選擇.   \n",
       "\n",
       "                                             token_text  \\\n",
       "2019  [好, ，, 物流, 也, 快, ，, 就, 是, 安裝費, 花, 了, 200, ，, 有...   \n",
       "2881                  [質感, ，, 輕巧, 。, 外觀, 時尚, ，, 價格, 合理]   \n",
       "4037                                [很, 滿意, ，, 全, 5, 分]   \n",
       "222   [金屬, 外殼, ，, 看起, 比較, 上, 檔次, 。, 攜帶, 方便, ，, 大, 一點...   \n",
       "1479  [優點, 大家, 說, 得, 都, 差不多, 了, ., 對於, 支援, 國產, 品牌, 來...   \n",
       "\n",
       "                                                doc_vec predict_svm  \\\n",
       "2019  [-0.08342421057750471, -0.014780480531044304, ...           P   \n",
       "2881  [-0.08880039946072632, -0.09217396958006753, 0...           P   \n",
       "4037  [-0.08709055682023366, -0.10826296731829643, 0...           P   \n",
       "222   [-0.08604101920179252, -0.038842485093607985, ...           P   \n",
       "1479  [-0.052145246, 0.027451375, -0.04499321, 0.092...           P   \n",
       "\n",
       "     predict_log  \n",
       "2019           P  \n",
       "2881           P  \n",
       "4037           P  \n",
       "222            P  \n",
       "1479           P  "
      ]
     },
     "execution_count": 48,
     "metadata": {},
     "output_type": "execute_result"
    }
   ],
   "source": [
    "result = logreg.predict(list(test['doc_vec']))\n",
    "test['predict_log'] = result\n",
    "test.head(5)"
   ]
  },
  {
   "cell_type": "code",
   "execution_count": 49,
   "metadata": {},
   "outputs": [
    {
     "name": "stdout",
     "output_type": "stream",
     "text": [
      "0.8716744913928013\n"
     ]
    }
   ],
   "source": [
    "print(sum(test['tag']==test['predict_log'])/len(test))"
   ]
  },
  {
   "cell_type": "markdown",
   "metadata": {},
   "source": [
    "## Demo "
   ]
  },
  {
   "cell_type": "code",
   "execution_count": 53,
   "metadata": {},
   "outputs": [
    {
     "name": "stdout",
     "output_type": "stream",
     "text": [
      "['這', '手機', '不', '好用']\n",
      "['N']\n"
     ]
    }
   ],
   "source": [
    "text = '這手機不好用'\n",
    "text = ws([text])[0]\n",
    "print(text)\n",
    "vec = sum([model[word] if word in model else np.zeros(300) for word in text])\n",
    "result = logreg.predict(np.reshape(vec,(1,300)))\n",
    "print(result)"
   ]
  },
  {
   "cell_type": "code",
   "execution_count": 54,
   "metadata": {},
   "outputs": [
    {
     "name": "stdout",
     "output_type": "stream",
     "text": [
      "['這', '手機', '好用', '不']\n",
      "['N']\n"
     ]
    }
   ],
   "source": [
    "text = '這手機好用不'\n",
    "text = ws([text])[0]\n",
    "print(text)\n",
    "vec = sum([model[word] if word in model else np.zeros(300) for word in text])\n",
    "result = logreg.predict(np.reshape(vec,(1,300)))\n",
    "print(result)"
   ]
  },
  {
   "cell_type": "code",
   "execution_count": null,
   "metadata": {},
   "outputs": [],
   "source": []
  }
 ],
 "metadata": {
  "kernelspec": {
   "display_name": "Python 3",
   "language": "python",
   "name": "python3"
  },
  "language_info": {
   "codemirror_mode": {
    "name": "ipython",
    "version": 3
   },
   "file_extension": ".py",
   "mimetype": "text/x-python",
   "name": "python",
   "nbconvert_exporter": "python",
   "pygments_lexer": "ipython3",
   "version": "3.6.7"
  }
 },
 "nbformat": 4,
 "nbformat_minor": 2
}
